{
 "cells": [
  {
   "cell_type": "code",
   "execution_count": 1,
   "metadata": {},
   "outputs": [],
   "source": [
    "import numpy as np\n",
    "import matplotlib.pyplot as plt \n",
    "import pandas as pd \n",
    "import time "
   ]
  },
  {
   "cell_type": "markdown",
   "metadata": {},
   "source": [
    "# Timing Variance Test \n",
    "\n",
    "Read Values from the Time Tagger for as long as possible \n",
    "- Sample sizes will vary by 1-2 samples, we will make a uniform number in the for loop\n",
    "- Max run time for the axi interface is 2**29/300e6 =~ 1.7895 seconds\n",
    "- Each run we will have to manually input the period of the pulse and the slew rate \n",
    "- Also each run two sets of data: 16384 samples of waveform and all timing data"
   ]
  },
  {
   "cell_type": "code",
   "execution_count": 2,
   "metadata": {},
   "outputs": [],
   "source": [
    "def get_pp_jitter(time_tagger, clk_freq, freq, threshold):\n",
    "    duration = (1/freq) * (2**time_tagger.FIFO_W)\n",
    "\n",
    "    # Set up time tagger for axi communication\n",
    "    time_tagger.configure_axi(True)\n",
    "    time_tagger.set_threshold(threshold)\n",
    "\n",
    "    # Run Time Tagger\n",
    "    time_tagger.send_pulsed_cmd('arm')\n",
    "    time.sleep(duration)\n",
    "    time_tagger.send_pulsed_cmd('disarm')\n",
    "\n",
    "    #Iterate through samples and put into array\n",
    "    sample_i = 0\n",
    "\n",
    "    # First read call to get status\n",
    "    time_tagger.send_pulsed_cmd('readout')\n",
    "    first_edge = time_tagger.read_edge(sample_i)\n",
    "\n",
    "\n",
    "    err, total_samples = time_tagger.read_status()\n",
    "\n",
    "    trig_times = np.zeros(total_samples+1)\n",
    "    trig_times[sample_i] = first_edge\n",
    "\n",
    "    sample_i = sample_i + 1 \n",
    "    samples_left = total_samples\n",
    "    while samples_left > 0:\n",
    "        time_tagger.send_pulsed_cmd('readout')\n",
    "        trig_times[sample_i] = time_tagger.read_edge(sample_i%4)\n",
    "        err, samples_left = time_tagger.read_status()\n",
    "        if (err) :\n",
    "            print('Tried to read but no samples')\n",
    "            break\n",
    "    \n",
    "    # Now Compute all the periods \n",
    "    periods = np.array([trig_times[i+1] - trig_times[i] for i in range(total_samples-2)]) # In adc_clk cycles\n",
    "\n",
    "    # Use adc path clk to determine jitter values\n",
    "    act_period = (1/freq) * clk_freq # in adc clk cycles\n",
    "\n",
    "    jitter = periods - act_period\n",
    "\n",
    "    return jitter   \n",
    "\n",
    "\n"
   ]
  },
  {
   "cell_type": "code",
   "execution_count": null,
   "metadata": {},
   "outputs": [],
   "source": [
    "def noise_analysis(system, clk_freq, freq, ): #Can't automate path information regarding time tagger acquistion path yet\n",
    "    "
   ]
  }
 ],
 "metadata": {
  "kernelspec": {
   "display_name": "Python 3",
   "language": "python",
   "name": "python3"
  },
  "language_info": {
   "codemirror_mode": {
    "name": "ipython",
    "version": 3
   },
   "file_extension": ".py",
   "mimetype": "text/x-python",
   "name": "python",
   "nbconvert_exporter": "python",
   "pygments_lexer": "ipython3",
   "version": "3.11.5"
  }
 },
 "nbformat": 4,
 "nbformat_minor": 2
}
